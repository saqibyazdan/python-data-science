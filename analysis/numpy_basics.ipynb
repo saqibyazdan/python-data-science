{
 "cells": [
  {
   "cell_type": "code",
   "execution_count": 17,
   "metadata": {},
   "outputs": [],
   "source": [
    "import numpy as np"
   ]
  },
  {
   "cell_type": "code",
   "execution_count": 18,
   "metadata": {},
   "outputs": [
    {
     "name": "stdout",
     "output_type": "stream",
     "text": [
      "[1 2 3 4]\n",
      "<class 'numpy.ndarray'>\n"
     ]
    }
   ],
   "source": [
    "n1 = np.array ([1,2,3,4])\n",
    "print(n1)\n",
    "print(type(n1))"
   ]
  },
  {
   "cell_type": "code",
   "execution_count": 19,
   "metadata": {},
   "outputs": [
    {
     "data": {
      "text/plain": [
       "166"
      ]
     },
     "execution_count": 19,
     "metadata": {},
     "output_type": "execute_result"
    }
   ],
   "source": [
    "x =[]\n",
    "len(dir(n1))"
   ]
  },
  {
   "cell_type": "code",
   "execution_count": 20,
   "metadata": {},
   "outputs": [
    {
     "data": {
      "text/plain": [
       "(4,)"
      ]
     },
     "execution_count": 20,
     "metadata": {},
     "output_type": "execute_result"
    }
   ],
   "source": [
    "n1.shape"
   ]
  },
  {
   "cell_type": "code",
   "execution_count": 21,
   "metadata": {},
   "outputs": [
    {
     "name": "stdout",
     "output_type": "stream",
     "text": [
      "[[1 2 3]\n",
      " [2 3 5]]\n",
      "(2, 3)\n"
     ]
    }
   ],
   "source": [
    "n2 = np.array([[1,2,3], [2,3,5]])\n",
    "print(n2)\n",
    "print(n2.shape)"
   ]
  },
  {
   "cell_type": "markdown",
   "metadata": {},
   "source": [
    "creating matrix\n",
    "- arange\n",
    "- linspace\n",
    "- random.rand\n",
    "- random.randn\n",
    "- random.randint\n",
    "- eye\n",
    "- ones\n",
    "- zeroes\n"
   ]
  },
  {
   "cell_type": "code",
   "execution_count": 22,
   "metadata": {},
   "outputs": [
    {
     "data": {
      "text/plain": [
       "(100,)"
      ]
     },
     "execution_count": 22,
     "metadata": {},
     "output_type": "execute_result"
    }
   ],
   "source": [
    "x = np.arange(-10, 10, .2)\n",
    "x.shape"
   ]
  },
  {
   "cell_type": "code",
   "execution_count": 23,
   "metadata": {},
   "outputs": [
    {
     "name": "stdout",
     "output_type": "stream",
     "text": [
      "[1.         1.16666667 1.33333333 1.5        1.66666667 1.83333333\n",
      " 2.         2.16666667 2.33333333 2.5        2.66666667 2.83333333\n",
      " 3.         3.16666667 3.33333333 3.5        3.66666667 3.83333333\n",
      " 4.         4.16666667 4.33333333 4.5        4.66666667 4.83333333\n",
      " 5.        ]\n"
     ]
    }
   ],
   "source": [
    "y = np.linspace(1,5,25)\n",
    "print(y)"
   ]
  },
  {
   "cell_type": "code",
   "execution_count": 24,
   "metadata": {},
   "outputs": [
    {
     "data": {
      "text/plain": [
       "array([[0.75694107, 0.34829413, 0.60467848],\n",
       "       [0.48703777, 0.52082934, 0.46599734],\n",
       "       [0.03852876, 0.4480922 , 0.56647027]])"
      ]
     },
     "execution_count": 24,
     "metadata": {},
     "output_type": "execute_result"
    }
   ],
   "source": [
    "np.random.rand(3,3)"
   ]
  },
  {
   "cell_type": "code",
   "execution_count": 25,
   "metadata": {},
   "outputs": [
    {
     "data": {
      "text/plain": [
       "array([ 0.83655812,  0.06530265, -0.64486656, -0.14870082,  1.6601303 ,\n",
       "       -0.14993141, -0.17992811, -0.0550168 , -1.12354926,  0.65648225])"
      ]
     },
     "execution_count": 25,
     "metadata": {},
     "output_type": "execute_result"
    }
   ],
   "source": [
    "np.random.randn(10)"
   ]
  },
  {
   "cell_type": "code",
   "execution_count": 26,
   "metadata": {},
   "outputs": [
    {
     "data": {
      "text/plain": [
       "array([[4, 4, 4, 1, 1],\n",
       "       [1, 1, 4, 3, 1],\n",
       "       [1, 2, 4, 2, 3],\n",
       "       [1, 3, 2, 2, 4],\n",
       "       [3, 1, 1, 3, 2]])"
      ]
     },
     "execution_count": 26,
     "metadata": {},
     "output_type": "execute_result"
    }
   ],
   "source": [
    "np.random.randint(1,5 ,(5,5))"
   ]
  },
  {
   "cell_type": "code",
   "execution_count": 27,
   "metadata": {},
   "outputs": [
    {
     "name": "stdout",
     "output_type": "stream",
     "text": [
      "[[3 2]\n",
      " [2 2]\n",
      " [7 4]]\n",
      "[[8 1]\n",
      " [7 3]\n",
      " [1 8]]\n"
     ]
    }
   ],
   "source": [
    "x = np.random.randint(1,10,(3,2))\n",
    "y = np.random.randint(1,10,(3,2))\n",
    "print(x)\n",
    "print(y)\n"
   ]
  },
  {
   "cell_type": "code",
   "execution_count": 28,
   "metadata": {},
   "outputs": [
    {
     "data": {
      "text/plain": [
       "array([[ 8,  7],\n",
       "       [ 7,  7],\n",
       "       [12,  9]])"
      ]
     },
     "execution_count": 28,
     "metadata": {},
     "output_type": "execute_result"
    }
   ],
   "source": [
    "x + 5"
   ]
  },
  {
   "cell_type": "code",
   "execution_count": 29,
   "metadata": {},
   "outputs": [
    {
     "data": {
      "text/plain": [
       "array([[11,  3],\n",
       "       [ 9,  5],\n",
       "       [ 8, 12]])"
      ]
     },
     "execution_count": 29,
     "metadata": {},
     "output_type": "execute_result"
    }
   ],
   "source": [
    "x+y"
   ]
  },
  {
   "cell_type": "code",
   "execution_count": 30,
   "metadata": {},
   "outputs": [
    {
     "data": {
      "text/plain": [
       "array([[24,  2],\n",
       "       [14,  6],\n",
       "       [ 7, 32]])"
      ]
     },
     "execution_count": 30,
     "metadata": {},
     "output_type": "execute_result"
    }
   ],
   "source": [
    "x *y"
   ]
  },
  {
   "cell_type": "code",
   "execution_count": 31,
   "metadata": {},
   "outputs": [
    {
     "data": {
      "text/plain": [
       "array([[3, 2, 7],\n",
       "       [2, 2, 4]])"
      ]
     },
     "execution_count": 31,
     "metadata": {},
     "output_type": "execute_result"
    }
   ],
   "source": [
    "x.T # transpose"
   ]
  },
  {
   "cell_type": "code",
   "execution_count": 32,
   "metadata": {},
   "outputs": [
    {
     "data": {
      "text/plain": [
       "array([[26, 27, 19],\n",
       "       [18, 20, 18],\n",
       "       [60, 61, 39]])"
      ]
     },
     "execution_count": 32,
     "metadata": {},
     "output_type": "execute_result"
    }
   ],
   "source": [
    "x.dot(y.T)"
   ]
  },
  {
   "cell_type": "code",
   "execution_count": 33,
   "metadata": {},
   "outputs": [
    {
     "data": {
      "text/plain": [
       "array([[ 0.14112001,  0.90929743],\n",
       "       [ 0.90929743,  0.90929743],\n",
       "       [ 0.6569866 , -0.7568025 ]])"
      ]
     },
     "execution_count": 33,
     "metadata": {},
     "output_type": "execute_result"
    }
   ],
   "source": [
    "np.sin(x)"
   ]
  },
  {
   "cell_type": "code",
   "execution_count": 34,
   "metadata": {},
   "outputs": [
    {
     "name": "stdout",
     "output_type": "stream",
     "text": [
      "20\n",
      "3.3333333333333335\n",
      "1.7950549357115013\n"
     ]
    }
   ],
   "source": [
    "print(x.sum())\n",
    "print(x.mean())\n",
    "print(x.std())"
   ]
  },
  {
   "cell_type": "code",
   "execution_count": 35,
   "metadata": {},
   "outputs": [
    {
     "name": "stdout",
     "output_type": "stream",
     "text": [
      "(50,)\n",
      "[[0.         0.10204082 0.20408163 0.30612245 0.40816327]\n",
      " [0.51020408 0.6122449  0.71428571 0.81632653 0.91836735]\n",
      " [1.02040816 1.12244898 1.2244898  1.32653061 1.42857143]\n",
      " [1.53061224 1.63265306 1.73469388 1.83673469 1.93877551]\n",
      " [2.04081633 2.14285714 2.24489796 2.34693878 2.44897959]\n",
      " [2.55102041 2.65306122 2.75510204 2.85714286 2.95918367]\n",
      " [3.06122449 3.16326531 3.26530612 3.36734694 3.46938776]\n",
      " [3.57142857 3.67346939 3.7755102  3.87755102 3.97959184]\n",
      " [4.08163265 4.18367347 4.28571429 4.3877551  4.48979592]\n",
      " [4.59183673 4.69387755 4.79591837 4.89795918 5.        ]]\n",
      "(10, 5)\n"
     ]
    }
   ],
   "source": [
    "a = np.linspace(0,5,50)\n",
    "print(a.shape)\n",
    "a2 = a.reshape(10,5)\n",
    "print(a2)\n",
    "print(a2.shape)\n"
   ]
  },
  {
   "cell_type": "code",
   "execution_count": 36,
   "metadata": {},
   "outputs": [
    {
     "data": {
      "text/plain": [
       "array([[[0.        , 0.10204082],\n",
       "        [0.20408163, 0.30612245],\n",
       "        [0.40816327, 0.51020408],\n",
       "        [0.6122449 , 0.71428571],\n",
       "        [0.81632653, 0.91836735]],\n",
       "\n",
       "       [[1.02040816, 1.12244898],\n",
       "        [1.2244898 , 1.32653061],\n",
       "        [1.42857143, 1.53061224],\n",
       "        [1.63265306, 1.73469388],\n",
       "        [1.83673469, 1.93877551]],\n",
       "\n",
       "       [[2.04081633, 2.14285714],\n",
       "        [2.24489796, 2.34693878],\n",
       "        [2.44897959, 2.55102041],\n",
       "        [2.65306122, 2.75510204],\n",
       "        [2.85714286, 2.95918367]],\n",
       "\n",
       "       [[3.06122449, 3.16326531],\n",
       "        [3.26530612, 3.36734694],\n",
       "        [3.46938776, 3.57142857],\n",
       "        [3.67346939, 3.7755102 ],\n",
       "        [3.87755102, 3.97959184]],\n",
       "\n",
       "       [[4.08163265, 4.18367347],\n",
       "        [4.28571429, 4.3877551 ],\n",
       "        [4.48979592, 4.59183673],\n",
       "        [4.69387755, 4.79591837],\n",
       "        [4.89795918, 5.        ]]])"
      ]
     },
     "execution_count": 36,
     "metadata": {},
     "output_type": "execute_result"
    }
   ],
   "source": [
    "a2.reshape(5,5,2)"
   ]
  },
  {
   "cell_type": "code",
   "execution_count": 38,
   "metadata": {},
   "outputs": [
    {
     "name": "stdout",
     "output_type": "stream",
     "text": [
      "[[5 9 9 6 4 7 4 6 2 1]\n",
      " [4 1 2 4 6 5 8 6 3 5]\n",
      " [7 5 3 4 7 7 9 9 3 3]\n",
      " [8 2 6 8 3 2 2 8 2 5]\n",
      " [9 9 8 7 7 7 1 6 7 1]\n",
      " [4 8 7 3 9 6 4 8 5 6]\n",
      " [9 5 7 4 7 7 7 4 1 7]\n",
      " [6 7 8 6 7 4 2 3 1 9]\n",
      " [8 8 4 1 2 4 7 9 6 6]\n",
      " [1 3 1 6 3 9 8 3 2 7]]\n"
     ]
    }
   ],
   "source": [
    "m = np.random.randint(1,10,(10,10))\n",
    "print(m)"
   ]
  },
  {
   "cell_type": "code",
   "execution_count": 39,
   "metadata": {},
   "outputs": [
    {
     "name": "stdout",
     "output_type": "stream",
     "text": [
      "5\n"
     ]
    }
   ],
   "source": [
    "print(m[0,0]) # first row first column"
   ]
  },
  {
   "cell_type": "code",
   "execution_count": 40,
   "metadata": {},
   "outputs": [
    {
     "name": "stdout",
     "output_type": "stream",
     "text": [
      "[5 9 9 6 4 7 4 6 2 1]\n",
      "[4 1 2 4 6 5 8 6 3 5]\n",
      "[1 3 1 6 3 9 8 3 2 7]\n",
      "[[5 9 9 6 4 7 4 6 2 1]\n",
      " [4 1 2 4 6 5 8 6 3 5]\n",
      " [7 5 3 4 7 7 9 9 3 3]]\n",
      "[[6 7 8 6 7 4 2 3 1 9]\n",
      " [8 8 4 1 2 4 7 9 6 6]\n",
      " [1 3 1 6 3 9 8 3 2 7]]\n"
     ]
    }
   ],
   "source": [
    "print(m[0]) #first row\n",
    "print(m[1]) # fisrt 3 rows\n",
    "print(m[-1]) # last row\n",
    "print(m[:3]) # fisrt 3 rows\n",
    "print(m[-3:]) # last 3 rows"
   ]
  },
  {
   "cell_type": "code",
   "execution_count": 41,
   "metadata": {},
   "outputs": [
    {
     "name": "stdout",
     "output_type": "stream",
     "text": [
      "[5 4 7 8 9 4 9 6 8 1]\n",
      "[1 5 3 5 1 6 7 9 6 7]\n",
      "[[5 9 9]\n",
      " [4 1 2]\n",
      " [7 5 3]\n",
      " [8 2 6]\n",
      " [9 9 8]\n",
      " [4 8 7]\n",
      " [9 5 7]\n",
      " [6 7 8]\n",
      " [8 8 4]\n",
      " [1 3 1]]\n",
      "[[6 2 1]\n",
      " [6 3 5]\n",
      " [9 3 3]\n",
      " [8 2 5]\n",
      " [6 7 1]\n",
      " [8 5 6]\n",
      " [4 1 7]\n",
      " [3 1 9]\n",
      " [9 6 6]\n",
      " [3 2 7]]\n"
     ]
    }
   ],
   "source": [
    "print(m[:,0]) # first column\n",
    "print(m[:,-1])# last column\n",
    "print(m[:,:3]) # first 3 column\n",
    "print(m[:,-3:]) # last 3 column"
   ]
  },
  {
   "cell_type": "code",
   "execution_count": 42,
   "metadata": {},
   "outputs": [
    {
     "name": "stdout",
     "output_type": "stream",
     "text": [
      "[[5 9 6 7]\n",
      " [4 2 4 5]\n",
      " [7 3 4 7]\n",
      " [8 6 8 2]\n",
      " [9 8 7 7]\n",
      " [4 7 3 6]\n",
      " [9 7 4 7]\n",
      " [6 8 6 4]\n",
      " [8 4 1 4]\n",
      " [1 1 6 9]]\n"
     ]
    }
   ],
   "source": [
    "print(m[:,[0,2,3,5]])"
   ]
  },
  {
   "cell_type": "markdown",
   "metadata": {},
   "source": [
    "- filtering"
   ]
  },
  {
   "cell_type": "code",
   "execution_count": 43,
   "metadata": {},
   "outputs": [
    {
     "data": {
      "text/plain": [
       "array([[5, 9, 9, 6, 4, 7, 4, 6, 2, 1],\n",
       "       [4, 1, 2, 4, 6, 5, 8, 6, 3, 5],\n",
       "       [7, 5, 3, 4, 7, 7, 9, 9, 3, 3],\n",
       "       [8, 2, 6, 8, 3, 2, 2, 8, 2, 5],\n",
       "       [9, 9, 8, 7, 7, 7, 1, 6, 7, 1],\n",
       "       [4, 8, 7, 3, 9, 6, 4, 8, 5, 6],\n",
       "       [9, 5, 7, 4, 7, 7, 7, 4, 1, 7],\n",
       "       [6, 7, 8, 6, 7, 4, 2, 3, 1, 9],\n",
       "       [8, 8, 4, 1, 2, 4, 7, 9, 6, 6],\n",
       "       [1, 3, 1, 6, 3, 9, 8, 3, 2, 7]])"
      ]
     },
     "execution_count": 43,
     "metadata": {},
     "output_type": "execute_result"
    }
   ],
   "source": [
    "m "
   ]
  },
  {
   "cell_type": "code",
   "execution_count": 44,
   "metadata": {},
   "outputs": [
    {
     "data": {
      "text/plain": [
       "array([[False, False, False, False,  True, False,  True, False,  True,\n",
       "         True],\n",
       "       [ True,  True,  True,  True, False, False, False, False,  True,\n",
       "        False],\n",
       "       [False, False,  True,  True, False, False, False, False,  True,\n",
       "         True],\n",
       "       [False,  True, False, False,  True,  True,  True, False,  True,\n",
       "        False],\n",
       "       [False, False, False, False, False, False,  True, False, False,\n",
       "         True],\n",
       "       [ True, False, False,  True, False, False,  True, False, False,\n",
       "        False],\n",
       "       [False, False, False,  True, False, False, False,  True,  True,\n",
       "        False],\n",
       "       [False, False, False, False, False,  True,  True,  True,  True,\n",
       "        False],\n",
       "       [False, False,  True,  True,  True,  True, False, False, False,\n",
       "        False],\n",
       "       [ True,  True,  True, False,  True, False, False,  True,  True,\n",
       "        False]])"
      ]
     },
     "execution_count": 44,
     "metadata": {},
     "output_type": "execute_result"
    }
   ],
   "source": [
    "m <5 # boolean filter"
   ]
  },
  {
   "cell_type": "code",
   "execution_count": 45,
   "metadata": {},
   "outputs": [
    {
     "data": {
      "text/plain": [
       "array([4, 4, 2, 1, 4, 1, 2, 4, 3, 3, 4, 3, 3, 2, 3, 2, 2, 2, 1, 1, 4, 3,\n",
       "       4, 4, 4, 1, 4, 2, 3, 1, 4, 1, 2, 4, 1, 3, 1, 3, 3, 2])"
      ]
     },
     "execution_count": 45,
     "metadata": {},
     "output_type": "execute_result"
    }
   ],
   "source": [
    "m [m <5] "
   ]
  },
  {
   "cell_type": "code",
   "execution_count": 46,
   "metadata": {},
   "outputs": [
    {
     "data": {
      "text/plain": [
       "array([5, 9, 9, 6, 4, 7, 4, 6, 4, 4, 6, 5, 8, 6, 5, 7, 5, 4, 7, 7, 9, 9,\n",
       "       8, 6, 8, 8, 5, 9, 9, 8, 7, 7, 7, 6, 7, 4, 8, 7, 9, 6, 4, 8, 5, 6,\n",
       "       9, 5, 7, 4, 7, 7, 7, 4, 7, 6, 7, 8, 6, 7, 4, 9, 8, 8, 4, 4, 7, 9,\n",
       "       6, 6, 6, 9, 8, 7])"
      ]
     },
     "execution_count": 46,
     "metadata": {},
     "output_type": "execute_result"
    }
   ],
   "source": [
    "m[ m>3]"
   ]
  },
  {
   "cell_type": "code",
   "execution_count": 47,
   "metadata": {},
   "outputs": [
    {
     "data": {
      "text/plain": [
       "array([5, 6, 4, 4, 6, 4, 4, 6, 5, 6, 3, 5, 5, 3, 4, 3, 3, 6, 3, 5, 6, 4,\n",
       "       3, 6, 4, 5, 6, 5, 4, 4, 6, 6, 4, 3, 4, 4, 6, 6, 3, 6, 3, 3])"
      ]
     },
     "execution_count": 47,
     "metadata": {},
     "output_type": "execute_result"
    }
   ],
   "source": [
    "m[(m>=3) & (m<=6)]"
   ]
  },
  {
   "cell_type": "code",
   "execution_count": null,
   "metadata": {},
   "outputs": [],
   "source": []
  }
 ],
 "metadata": {
  "kernelspec": {
   "display_name": "base",
   "language": "python",
   "name": "python3"
  },
  "language_info": {
   "codemirror_mode": {
    "name": "ipython",
    "version": 3
   },
   "file_extension": ".py",
   "mimetype": "text/x-python",
   "name": "python",
   "nbconvert_exporter": "python",
   "pygments_lexer": "ipython3",
   "version": "3.11.4"
  },
  "orig_nbformat": 4
 },
 "nbformat": 4,
 "nbformat_minor": 2
}

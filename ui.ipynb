{
 "cells": [
  {
   "cell_type": "code",
   "execution_count": 1,
   "metadata": {},
   "outputs": [
    {
     "ename": "KeyboardInterrupt",
     "evalue": "",
     "output_type": "error",
     "traceback": [
      "\u001b[1;31m---------------------------------------------------------------------------\u001b[0m",
      "\u001b[1;31mKeyboardInterrupt\u001b[0m                         Traceback (most recent call last)",
      "Cell \u001b[1;32mIn[1], line 11\u001b[0m\n\u001b[0;32m      9\u001b[0m window \u001b[39m=\u001b[39m sg\u001b[39m.\u001b[39mWindow(\u001b[39m'\u001b[39m\u001b[39mexcel to csv converter\u001b[39m\u001b[39m'\u001b[39m, layout)\n\u001b[0;32m     10\u001b[0m \u001b[39mwhile\u001b[39;00m \u001b[39mTrue\u001b[39;00m:\n\u001b[1;32m---> 11\u001b[0m  event , values \u001b[39m=\u001b[39m window\u001b[39m.\u001b[39mread()\n\u001b[0;32m     12\u001b[0m  \u001b[39mif\u001b[39;00m event \u001b[39min\u001b[39;00m (sg\u001b[39m.\u001b[39mWINDOW_CLOSED , \u001b[39m'\u001b[39m\u001b[39mExit\u001b[39m\u001b[39m'\u001b[39m):\n\u001b[0;32m     13\u001b[0m   \u001b[39mbreak\u001b[39;00m\n",
      "File \u001b[1;32mc:\\Users\\HP\\miniconda3\\Lib\\site-packages\\PySimpleGUI\\PySimpleGUI.py:10079\u001b[0m, in \u001b[0;36mWindow.read\u001b[1;34m(self, timeout, timeout_key, close)\u001b[0m\n\u001b[0;32m  10077\u001b[0m \u001b[39mwhile\u001b[39;00m \u001b[39mTrue\u001b[39;00m:\n\u001b[0;32m  10078\u001b[0m     Window\u001b[39m.\u001b[39m_root_running_mainloop \u001b[39m=\u001b[39m \u001b[39mself\u001b[39m\u001b[39m.\u001b[39mTKroot\n\u001b[1;32m> 10079\u001b[0m     results \u001b[39m=\u001b[39m \u001b[39mself\u001b[39m\u001b[39m.\u001b[39m_read(timeout\u001b[39m=\u001b[39mtimeout, timeout_key\u001b[39m=\u001b[39mtimeout_key)\n\u001b[0;32m  10080\u001b[0m     \u001b[39mif\u001b[39;00m results \u001b[39mis\u001b[39;00m \u001b[39mnot\u001b[39;00m \u001b[39mNone\u001b[39;00m:\n\u001b[0;32m  10081\u001b[0m         \u001b[39mif\u001b[39;00m results[\u001b[39m0\u001b[39m] \u001b[39m==\u001b[39m DEFAULT_WINDOW_SNAPSHOT_KEY:\n",
      "File \u001b[1;32mc:\\Users\\HP\\miniconda3\\Lib\\site-packages\\PySimpleGUI\\PySimpleGUI.py:10150\u001b[0m, in \u001b[0;36mWindow._read\u001b[1;34m(self, timeout, timeout_key)\u001b[0m\n\u001b[0;32m  10148\u001b[0m     \u001b[39mreturn\u001b[39;00m \u001b[39mNone\u001b[39;00m, \u001b[39mNone\u001b[39;00m\n\u001b[0;32m  10149\u001b[0m \u001b[39mif\u001b[39;00m \u001b[39mnot\u001b[39;00m \u001b[39mself\u001b[39m\u001b[39m.\u001b[39mShown:\n\u001b[1;32m> 10150\u001b[0m     \u001b[39mself\u001b[39m\u001b[39m.\u001b[39m_Show()\n\u001b[0;32m  10151\u001b[0m \u001b[39melse\u001b[39;00m:\n\u001b[0;32m  10152\u001b[0m     \u001b[39m# if already have a button waiting, the return previously built results\u001b[39;00m\n\u001b[0;32m  10153\u001b[0m     \u001b[39mif\u001b[39;00m \u001b[39mself\u001b[39m\u001b[39m.\u001b[39mLastButtonClicked \u001b[39mis\u001b[39;00m \u001b[39mnot\u001b[39;00m \u001b[39mNone\u001b[39;00m \u001b[39mand\u001b[39;00m \u001b[39mnot\u001b[39;00m \u001b[39mself\u001b[39m\u001b[39m.\u001b[39mLastButtonClickedWasRealtime:\n",
      "File \u001b[1;32mc:\\Users\\HP\\miniconda3\\Lib\\site-packages\\PySimpleGUI\\PySimpleGUI.py:9890\u001b[0m, in \u001b[0;36mWindow._Show\u001b[1;34m(self, non_blocking)\u001b[0m\n\u001b[0;32m   9888\u001b[0m     \u001b[39mself\u001b[39m\u001b[39m.\u001b[39mUseDefaultFocus \u001b[39m=\u001b[39m \u001b[39mFalse\u001b[39;00m\n\u001b[0;32m   9889\u001b[0m \u001b[39m# -=-=-=-=-=-=-=-=- RUN the GUI -=-=-=-=-=-=-=-=- ##\u001b[39;00m\n\u001b[1;32m-> 9890\u001b[0m StartupTK(\u001b[39mself\u001b[39m)\n\u001b[0;32m   9891\u001b[0m \u001b[39m# If a button or keyboard event happened but no results have been built, build the results\u001b[39;00m\n\u001b[0;32m   9892\u001b[0m \u001b[39mif\u001b[39;00m \u001b[39mself\u001b[39m\u001b[39m.\u001b[39mLastKeyboardEvent \u001b[39mis\u001b[39;00m \u001b[39mnot\u001b[39;00m \u001b[39mNone\u001b[39;00m \u001b[39mor\u001b[39;00m \u001b[39mself\u001b[39m\u001b[39m.\u001b[39mLastButtonClicked \u001b[39mis\u001b[39;00m \u001b[39mnot\u001b[39;00m \u001b[39mNone\u001b[39;00m:\n",
      "File \u001b[1;32mc:\\Users\\HP\\miniconda3\\Lib\\site-packages\\PySimpleGUI\\PySimpleGUI.py:16942\u001b[0m, in \u001b[0;36mStartupTK\u001b[1;34m(window)\u001b[0m\n\u001b[0;32m  16940\u001b[0m Window\u001b[39m.\u001b[39m_window_running_mainloop \u001b[39m=\u001b[39m window\n\u001b[0;32m  16941\u001b[0m Window\u001b[39m.\u001b[39m_root_running_mainloop \u001b[39m=\u001b[39m window\u001b[39m.\u001b[39mTKroot\n\u001b[1;32m> 16942\u001b[0m window\u001b[39m.\u001b[39mTKroot\u001b[39m.\u001b[39mmainloop()\n\u001b[0;32m  16943\u001b[0m window\u001b[39m.\u001b[39mCurrentlyRunningMainloop \u001b[39m=\u001b[39m \u001b[39mFalse\u001b[39;00m\n\u001b[0;32m  16944\u001b[0m window\u001b[39m.\u001b[39mTimerCancelled \u001b[39m=\u001b[39m \u001b[39mTrue\u001b[39;00m\n",
      "File \u001b[1;32mc:\\Users\\HP\\miniconda3\\Lib\\tkinter\\__init__.py:1485\u001b[0m, in \u001b[0;36mMisc.mainloop\u001b[1;34m(self, n)\u001b[0m\n\u001b[0;32m   1483\u001b[0m \u001b[39mdef\u001b[39;00m \u001b[39mmainloop\u001b[39m(\u001b[39mself\u001b[39m, n\u001b[39m=\u001b[39m\u001b[39m0\u001b[39m):\n\u001b[0;32m   1484\u001b[0m \u001b[39m    \u001b[39m\u001b[39m\"\"\"Call the mainloop of Tk.\"\"\"\u001b[39;00m\n\u001b[1;32m-> 1485\u001b[0m     \u001b[39mself\u001b[39m\u001b[39m.\u001b[39mtk\u001b[39m.\u001b[39mmainloop(n)\n",
      "\u001b[1;31mKeyboardInterrupt\u001b[0m: "
     ]
    },
    {
     "ename": "",
     "evalue": "",
     "output_type": "error",
     "traceback": [
      "\u001b[1;31mThe Kernel crashed while executing code in the the current cell or a previous cell. Please review the code in the cell(s) to identify a possible cause of the failure. Click <a href='https://aka.ms/vscodeJupyterKernelCrash'>here</a> for more info. View Jupyter <a href='command:jupyter.viewOutput'>log</a> for further details."
     ]
    }
   ],
   "source": [
    "import PySimpleGUI as sg\n",
    "\n",
    "layout = [\n",
    "\n",
    "    [sg.Text('input'), sg.Input(key='In'), sg.FileBrowse()],\n",
    "    [sg.Text('output'), sg.Output(key='out'), sg.FolderBrowse()],\n",
    "    [ sg.Exit(), sg .Button('convert to csv')],\n",
    " ]\n",
    "window = sg.Window('excel to csv converter', layout)\n",
    "while True:\n",
    " event , values = window.read()\n",
    " if event in (sg.WINDOW_CLOSED , 'Exit'):\n",
    "  break\n",
    " if event == 'convert to csv':\n",
    "  sg.PopupError('not implemented yet')\n",
    "window.close()"
   ]
  }
 ],
 "metadata": {
  "kernelspec": {
   "display_name": "base",
   "language": "python",
   "name": "python3"
  },
  "language_info": {
   "codemirror_mode": {
    "name": "ipython",
    "version": 3
   },
   "file_extension": ".py",
   "mimetype": "text/x-python",
   "name": "python",
   "nbconvert_exporter": "python",
   "pygments_lexer": "ipython3",
   "version": "3.11.4"
  },
  "orig_nbformat": 4
 },
 "nbformat": 4,
 "nbformat_minor": 2
}

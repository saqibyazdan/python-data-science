{
 "cells": [
  {
   "cell_type": "code",
   "execution_count": 1,
   "metadata": {},
   "outputs": [],
   "source": [
    "import PySimpleGUI as sg\n",
    "\n",
    "layout = [\n",
    "\n",
    "    [sg.Text('input'), sg.Input(key='In'), sg.FileBrowse()],\n",
    "    [sg.Text('output'), sg.Output(key='out'), sg.FolderBrowse()],\n",
    "    [ sg.Exit(), sg .Button('convert to csv')],\n",
    " ]\n",
    "window = sg.Window('excel to csv converter', layout)\n",
    "while True:\n",
    " event , values = window.read()\n",
    " if event in (sg.WINDOW_CLOSED , 'Exit'):\n",
    "  break\n",
    " if event == 'convert to csv':\n",
    "  sg.PopupError('not implemented yet')\n",
    "window.close()"
   ]
  },
  {
   "cell_type": "code",
   "execution_count": null,
   "metadata": {},
   "outputs": [],
   "source": []
  }
 ],
 "metadata": {
  "kernelspec": {
   "display_name": "base",
   "language": "python",
   "name": "python3"
  },
  "language_info": {
   "codemirror_mode": {
    "name": "ipython",
    "version": 3
   },
   "file_extension": ".py",
   "mimetype": "text/x-python",
   "name": "python",
   "nbconvert_exporter": "python",
   "pygments_lexer": "ipython3",
   "version": "3.11.4"
  },
  "orig_nbformat": 4
 },
 "nbformat": 4,
 "nbformat_minor": 2
}

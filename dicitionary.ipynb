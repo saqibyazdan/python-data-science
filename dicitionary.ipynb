{
 "cells": [
  {
   "cell_type": "code",
   "execution_count": 34,
   "metadata": {},
   "outputs": [
    {
     "name": "stdout",
     "output_type": "stream",
     "text": [
      "{'english': 56, 'hindi': 90, 'maths': 34, 'chemistry': 34, 'evs': 56}\n"
     ]
    }
   ],
   "source": [
    "raju =[56,90,34,34,56]\n",
    "raju_dict ={ \n",
    "    'english': 56,\n",
    "    'hindi': 90,\n",
    "    'maths':34,\n",
    "    'chemistry':34,\n",
    "    'evs':56\n",
    "}\n",
    "print(raju_dict)"
   ]
  },
  {
   "cell_type": "code",
   "execution_count": 35,
   "metadata": {},
   "outputs": [],
   "source": [
    "company ={\n",
    "    'emp001': {\n",
    "    'name' : \"amar kumar\",\n",
    "    'designation': \"assistant III\",\n",
    "    'salary': 32000,\n",
    "},\n",
    "'emp002': {\n",
    "    'name': \"ranu singh\",\n",
    "    'designation': 'staff officer',\n",
    "    'salary': 89000,\n",
    "},\n",
    "'total_emp': 2,\n",
    "'department': 'accounts',\n",
    "'vacancy': ['clerk','manager','assistant I']\n",
    "}"
   ]
  },
  {
   "cell_type": "code",
   "execution_count": 36,
   "metadata": {},
   "outputs": [
    {
     "name": "stdout",
     "output_type": "stream",
     "text": [
      "{'emp001': {'name': 'amar kumar', 'designation': 'assistant III', 'salary': 32000}, 'emp002': {'name': 'ranu singh', 'designation': 'staff officer', 'salary': 89000}, 'total_emp': 2, 'department': 'accounts', 'vacancy': ['clerk', 'manager', 'assistant I'], 'name': 'acme.inc'}\n"
     ]
    }
   ],
   "source": [
    "company['name']= 'acme.inc'\n",
    "print(company)"
   ]
  },
  {
   "cell_type": "code",
   "execution_count": 66,
   "metadata": {},
   "outputs": [],
   "source": [
    "company['total_emp'] = 3\n",
    "company['emp003']= {\n",
    "    'name': 'ajay verma',\n",
    "    'designation': 'clerk',\n",
    "    'salary': 45000\n",
    "}"
   ]
  },
  {
   "cell_type": "code",
   "execution_count": 67,
   "metadata": {},
   "outputs": [],
   "source": [
    "company['vacancy']= ['clerk vaccany filled', 'manager', 'assistant I']"
   ]
  },
  {
   "cell_type": "code",
   "execution_count": 68,
   "metadata": {},
   "outputs": [
    {
     "data": {
      "text/plain": [
       "{'emp001': {'name': 'amar kumar',\n",
       "  'designation': 'assistant III',\n",
       "  'salary': 32000},\n",
       " 'emp002': {'name': 'ranu singh',\n",
       "  'designation': 'staff officer',\n",
       "  'salary': 89000},\n",
       " 'total_emp': 3,\n",
       " 'department': 'accounts',\n",
       " 'vacancy': ['clerk vaccany filled', 'manager', 'assistant I'],\n",
       " 'name': 'acme.inc',\n",
       " 'emp003': {'name': 'ajay verma', 'designation': 'clerk', 'salary': 45000},\n",
       " 'item ': {'name': 'n ', 'price': 'p'}}"
      ]
     },
     "execution_count": 68,
     "metadata": {},
     "output_type": "execute_result"
    }
   ],
   "source": [
    "company\n"
   ]
  },
  {
   "cell_type": "code",
   "execution_count": 40,
   "metadata": {},
   "outputs": [],
   "source": [
    "company.get('website')"
   ]
  },
  {
   "cell_type": "code",
   "execution_count": 41,
   "metadata": {},
   "outputs": [
    {
     "name": "stdout",
     "output_type": "stream",
     "text": [
      "dict_keys(['emp001', 'emp002', 'total_emp', 'department', 'vacancy', 'name', 'emp003'])\n",
      "dict_values([{'name': 'amar kumar', 'designation': 'assistant III', 'salary': 32000}, {'name': 'ranu singh', 'designation': 'staff officer', 'salary': 89000}, 3, 'accounts', ['clerk vaccany filled', 'manager', 'assistant I'], 'acme.inc', {'name': 'ajay verma', 'designation': 'clerk', 'salary': 45000}])\n"
     ]
    }
   ],
   "source": [
    "print(company.keys())\n",
    "print(company.values())"
   ]
  },
  {
   "cell_type": "code",
   "execution_count": 42,
   "metadata": {},
   "outputs": [
    {
     "name": "stdout",
     "output_type": "stream",
     "text": [
      "dict_items([('emp001', {'name': 'amar kumar', 'designation': 'assistant III', 'salary': 32000}), ('emp002', {'name': 'ranu singh', 'designation': 'staff officer', 'salary': 89000}), ('total_emp', 3), ('department', 'accounts'), ('vacancy', ['clerk vaccany filled', 'manager', 'assistant I']), ('name', 'acme.inc'), ('emp003', {'name': 'ajay verma', 'designation': 'clerk', 'salary': 45000})])\n"
     ]
    }
   ],
   "source": [
    "print(company.items())"
   ]
  },
  {
   "cell_type": "code",
   "execution_count": 43,
   "metadata": {},
   "outputs": [
    {
     "name": "stdout",
     "output_type": "stream",
     "text": [
      "english\n",
      "hindi\n",
      "maths\n",
      "chemistry\n",
      "evs\n"
     ]
    }
   ],
   "source": [
    "for i in raju_dict:\n",
    "    print(i)"
   ]
  },
  {
   "cell_type": "code",
   "execution_count": 44,
   "metadata": {},
   "outputs": [
    {
     "name": "stdout",
     "output_type": "stream",
     "text": [
      "emp001 {'name': 'amar kumar', 'designation': 'assistant III', 'salary': 32000}\n",
      "emp002 {'name': 'ranu singh', 'designation': 'staff officer', 'salary': 89000}\n",
      "total_emp 3\n",
      "department accounts\n",
      "vacancy ['clerk vaccany filled', 'manager', 'assistant I']\n",
      "name acme.inc\n",
      "emp003 {'name': 'ajay verma', 'designation': 'clerk', 'salary': 45000}\n"
     ]
    }
   ],
   "source": [
    "for i in company:\n",
    "    print(i , company[i])"
   ]
  },
  {
   "cell_type": "code",
   "execution_count": 45,
   "metadata": {},
   "outputs": [
    {
     "name": "stdout",
     "output_type": "stream",
     "text": [
      "emp001 {'name': 'amar kumar', 'designation': 'assistant III', 'salary': 32000}\n",
      "emp002 {'name': 'ranu singh', 'designation': 'staff officer', 'salary': 89000}\n",
      "total_emp 3\n",
      "department accounts\n",
      "vacancy ['clerk vaccany filled', 'manager', 'assistant I']\n",
      "name acme.inc\n",
      "emp003 {'name': 'ajay verma', 'designation': 'clerk', 'salary': 45000}\n"
     ]
    }
   ],
   "source": [
    "for k,v in company.items():\n",
    "    print(k,v)"
   ]
  },
  {
   "cell_type": "code",
   "execution_count": 46,
   "metadata": {},
   "outputs": [
    {
     "name": "stdout",
     "output_type": "stream",
     "text": [
      "emp001\n",
      "---> name amar kumar\n",
      "---> designation assistant III\n",
      "---> salary 32000\n",
      "emp002\n",
      "---> name ranu singh\n",
      "---> designation staff officer\n",
      "---> salary 89000\n",
      "total_emp 3\n",
      "department accounts\n",
      "vacancy ['clerk vaccany filled', 'manager', 'assistant I']\n",
      "name acme.inc\n",
      "emp003\n",
      "---> name ajay verma\n",
      "---> designation clerk\n",
      "---> salary 45000\n"
     ]
    }
   ],
   "source": [
    "for k,v in company.items():\n",
    "    if isinstance(v,dict):\n",
    "        print(k)\n",
    "        for key, value in v.items():\n",
    "            print(\"--->\", key,value)\n",
    "    else:\n",
    "        print(k,v)"
   ]
  },
  {
   "cell_type": "markdown",
   "metadata": {},
   "source": [
    "wap to create dict which takes user input for the item and its price , the user can enter unlimited amout of items"
   ]
  },
  {
   "cell_type": "code",
   "execution_count": 76,
   "metadata": {},
   "outputs": [
    {
     "name": "stdout",
     "output_type": "stream",
     "text": [
      "{'item 1': {'name': 'a', 'price': 1}, 'total_item': 2, 'item 2': {'name': 'b', 'price': 2}}\n"
     ]
    }
   ],
   "source": [
    "grocery = {\n",
    "    'item 1': {\n",
    "    'name' : \" \",\n",
    "    'price' : \" \"\n",
    "},\n",
    "'total_item': 0,\n",
    "}\n",
    "\n",
    "noi = int(input (\"enter no of items\"))\n",
    "for i in range (noi):\n",
    "    j = 1+i\n",
    "    n = input(f' enter item {j}')\n",
    "    p = int(input(f'enter price of {j}'))\n",
    "    grocery ['total_item'] = noi\n",
    "    grocery[f'item {j}']= {\n",
    "    'name': n,\n",
    "    'price': p\n",
    "    }\n",
    "print (grocery)\n",
    "\n",
    "\n",
    "    \n",
    "    "
   ]
  },
  {
   "cell_type": "code",
   "execution_count": 77,
   "metadata": {},
   "outputs": [
    {
     "name": "stdout",
     "output_type": "stream",
     "text": [
      "{'apple': '1', 'banan': '2', 'banana': '2'}\n"
     ]
    }
   ],
   "source": [
    "grocary = {}\n",
    "for i in range (3):\n",
    "    product_name= input(\"Enter the Product Name: \")\n",
    "    product_price= input(\"Enter the price of the product: \")\n",
    "    grocary[product_name] = product_price\n",
    "print(grocary)"
   ]
  }
 ],
 "metadata": {
  "kernelspec": {
   "display_name": "base",
   "language": "python",
   "name": "python3"
  },
  "language_info": {
   "codemirror_mode": {
    "name": "ipython",
    "version": 3
   },
   "file_extension": ".py",
   "mimetype": "text/x-python",
   "name": "python",
   "nbconvert_exporter": "python",
   "pygments_lexer": "ipython3",
   "version": "3.11.4"
  },
  "orig_nbformat": 4
 },
 "nbformat": 4,
 "nbformat_minor": 2
}

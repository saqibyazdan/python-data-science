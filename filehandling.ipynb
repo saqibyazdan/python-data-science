{
 "cells": [
  {
   "cell_type": "markdown",
   "metadata": {},
   "source": [
    "# file handling\n",
    "- open\n",
    "- read\n",
    "- write\n",
    "- append\n",
    "- close\n",
    "     \n",
    "     . with keyword is better"
   ]
  },
  {
   "cell_type": "code",
   "execution_count": 1,
   "metadata": {},
   "outputs": [
    {
     "data": {
      "text/plain": [
       "<_io.TextIOWrapper name='t1.py' mode='r' encoding='utf-8'>"
      ]
     },
     "execution_count": 1,
     "metadata": {},
     "output_type": "execute_result"
    }
   ],
   "source": [
    "open('t1.py')  # open and load into memory\n"
   ]
  },
  {
   "cell_type": "code",
   "execution_count": 2,
   "metadata": {},
   "outputs": [
    {
     "data": {
      "text/plain": [
       "\"from turtle import *\\nspeed('slowest')\\npencolor('green')\\n\\nfd(100)\\nrt(120)\\nfd(100)\\nrt(120)\\nfd(100)\\nrt(120)\\n\\n\\nmainloop()\""
      ]
     },
     "execution_count": 2,
     "metadata": {},
     "output_type": "execute_result"
    }
   ],
   "source": [
    "open ('t1.py').read()"
   ]
  },
  {
   "cell_type": "code",
   "execution_count": 3,
   "metadata": {},
   "outputs": [
    {
     "name": "stdout",
     "output_type": "stream",
     "text": [
      "from turtle import *\n",
      "speed('slowest')\n",
      "pencolor('green')\n",
      "\n",
      "fd(100)\n",
      "rt(120)\n",
      "fd(100)\n",
      "rt(120)\n",
      "fd(100)\n",
      "rt(120)\n",
      "\n",
      "\n",
      "mainloop()\n"
     ]
    }
   ],
   "source": [
    "# reading a file with statement\n",
    "with open('t1.py') as file:\n",
    "    content = file.read()\n",
    "print(content)"
   ]
  },
  {
   "cell_type": "code",
   "execution_count": 4,
   "metadata": {},
   "outputs": [
    {
     "name": "stdout",
     "output_type": "stream",
     "text": [
      "from turtle import *\n",
      "speed('slowest')\n",
      "pencolor('green')\n",
      "\n",
      "fd(100)\n",
      "rt(120)\n",
      "fd(100)\n",
      "rt(120)\n",
      "fd(100)\n",
      "rt(120)\n",
      "\n",
      "\n",
      "mainloop()\n"
     ]
    }
   ],
   "source": [
    "# reading a file using with encoding and errors ignored\n",
    "with open('t1.py', encoding= 'utf-8' , errors = ' ignore') as file:\n",
    "    content = file.read()\n",
    "print(content)"
   ]
  },
  {
   "cell_type": "code",
   "execution_count": 5,
   "metadata": {},
   "outputs": [
    {
     "name": "stdout",
     "output_type": "stream",
     "text": [
      "3824982\n"
     ]
    }
   ],
   "source": [
    "path = r'C:\\Users\\HP\\Pictures\\Screenshots\\2022-06-02.png'\n",
    "# open the file in read binary mode\n",
    "with open (path, 'rb') as file:\n",
    "    bytes = file.read()\n",
    "print(len(bytes))"
   ]
  },
  {
   "cell_type": "code",
   "execution_count": 13,
   "metadata": {},
   "outputs": [
    {
     "name": "stdout",
     "output_type": "stream",
     "text": [
      "✅ file created succesfully\n"
     ]
    }
   ],
   "source": [
    "# creating a text file\n",
    "data = 'life before death\\n strength before weakness \\njourney before destination'\n",
    "# 'w' is the mode\n",
    "with open('oath.text' , 'w') as f :\n",
    "    f.write(data)\n",
    "    print('✅ file created succesfully')"
   ]
  },
  {
   "cell_type": "code",
   "execution_count": 9,
   "metadata": {},
   "outputs": [
    {
     "name": "stdout",
     "output_type": "stream",
     "text": [
      "✅ kahani khatam\n"
     ]
    }
   ],
   "source": [
    "with open('kahani.text' , 'w') as file:\n",
    "    while True:\n",
    "        line = input('>>>')\n",
    "        if not line:\n",
    "            break\n",
    "        file.write(line +'\\n')\n",
    "    print('✅ kahani khatam')"
   ]
  },
  {
   "cell_type": "code",
   "execution_count": 14,
   "metadata": {},
   "outputs": [
    {
     "name": "stdout",
     "output_type": "stream",
     "text": [
      "file updated successfully\n"
     ]
    }
   ],
   "source": [
    "# adding content to existing file\n",
    "with open('oath.text', 'a') as file:\n",
    "    file.write('\\n the first ideal of knight radiant\\n')\n",
    "    file.write('from the book: the way\\n')\n",
    "    print('file updated successfully')"
   ]
  },
  {
   "cell_type": "markdown",
   "metadata": {},
   "source": [
    "os library\n"
   ]
  },
  {
   "cell_type": "code",
   "execution_count": 15,
   "metadata": {},
   "outputs": [],
   "source": [
    "import os"
   ]
  },
  {
   "cell_type": "code",
   "execution_count": 16,
   "metadata": {},
   "outputs": [
    {
     "name": "stdout",
     "output_type": "stream",
     "text": [
      "the current path is :\n",
      "c:\\Users\\HP\\Documents\\python data science\n"
     ]
    }
   ],
   "source": [
    "print(\"the current path is :\")\n",
    "print(os.getcwd())"
   ]
  },
  {
   "cell_type": "code",
   "execution_count": 17,
   "metadata": {},
   "outputs": [
    {
     "name": "stdout",
     "output_type": "stream",
     "text": [
      "all the content directory\n"
     ]
    },
    {
     "data": {
      "text/plain": [
       "['.git',\n",
       " 'basics.ipynb',\n",
       " 'condition.ipynb',\n",
       " 'dicitionary.ipynb',\n",
       " 'filehandling.ipynb',\n",
       " 'hello.py',\n",
       " 'kahani.text',\n",
       " 'lists.ipynb',\n",
       " 'loop.ipynb',\n",
       " 'oath.text',\n",
       " 'pattern.py',\n",
       " 'strings.ipynb',\n",
       " 't1.py',\n",
       " 'tuples_n_sets.ipynb']"
      ]
     },
     "execution_count": 17,
     "metadata": {},
     "output_type": "execute_result"
    }
   ],
   "source": [
    "print(\"all the content directory\")\n",
    "os.listdir()"
   ]
  },
  {
   "cell_type": "code",
   "execution_count": 18,
   "metadata": {},
   "outputs": [
    {
     "name": "stdout",
     "output_type": "stream",
     "text": [
      "all the content of some location\n"
     ]
    },
    {
     "data": {
      "text/plain": [
       "['appcompat',\n",
       " 'apppatch',\n",
       " 'AppReadiness',\n",
       " 'assembly',\n",
       " 'bcastdvr',\n",
       " 'bfsvc.exe',\n",
       " 'Boot',\n",
       " 'bootstat.dat',\n",
       " 'Branding',\n",
       " 'BrowserCore',\n",
       " 'CbsTemp',\n",
       " 'comsetup.log',\n",
       " 'Containers',\n",
       " 'Core.xml',\n",
       " 'CoreSingleLanguage.xml',\n",
       " 'CSUP.txt',\n",
       " 'Cursors',\n",
       " 'debug',\n",
       " 'diagerr.xml',\n",
       " 'diagnostics',\n",
       " 'DiagTrack',\n",
       " 'diagwrn.xml',\n",
       " 'DigitalLocker',\n",
       " 'Downloaded Program Files',\n",
       " 'DtcInstall.log',\n",
       " 'ELAMBKUP',\n",
       " 'en-US',\n",
       " 'explorer.exe',\n",
       " 'Fonts',\n",
       " 'GameBarPresenceWriter',\n",
       " 'Globalization',\n",
       " 'Help',\n",
       " 'HelpPane.exe',\n",
       " 'hh.exe',\n",
       " 'HoloShell',\n",
       " 'HP',\n",
       " 'HPCCSDK_Ver.exe',\n",
       " 'HPCUST1.exe',\n",
       " 'HPCUST2.exe',\n",
       " 'IdentityCRL',\n",
       " 'IME',\n",
       " 'ImmersiveControlPanel',\n",
       " 'INF',\n",
       " 'InputMethod',\n",
       " 'Installer',\n",
       " 'L2Schemas',\n",
       " 'LanguageOverlayCache',\n",
       " 'LiveKernelReports',\n",
       " 'Logs',\n",
       " 'lsasetup.log',\n",
       " 'Media',\n",
       " 'mib.bin',\n",
       " 'Microsoft.NET',\n",
       " 'Migration',\n",
       " 'ModemLogs',\n",
       " 'notepad.exe',\n",
       " 'OCR',\n",
       " 'Offline Web Pages',\n",
       " 'Panther',\n",
       " 'Performance',\n",
       " 'PFRO.log',\n",
       " 'PidVid_List',\n",
       " 'PLA',\n",
       " 'PolicyDefinitions',\n",
       " 'Prefetch',\n",
       " 'PrintDialog',\n",
       " 'Provisioning',\n",
       " 'regedit.exe',\n",
       " 'Registration',\n",
       " 'rescache',\n",
       " 'Resources',\n",
       " 'RtkBtManServ.exe',\n",
       " 'rtl8723b_mp_chip_bt40_fw_asic_rom_patch_new',\n",
       " 'rtl8723b_mp_chip_bt40_fw_asic_rom_patch_new_s1',\n",
       " 'rtl8723d_mp_chip_bt40_fw_asic_rom_patch_new',\n",
       " 'rtl8821c_mp_chip_bt40_fw_asic_rom_patch_new',\n",
       " 'rtl8822b_mp_chip_bt40_fw_asic_rom_patch_new',\n",
       " 'rtl8822c_mp_chip_bt40_fw_asic_rom_patch_new',\n",
       " 'SchCache',\n",
       " 'schemas',\n",
       " 'security',\n",
       " 'ServiceProfiles',\n",
       " 'ServiceState',\n",
       " 'servicing',\n",
       " 'Setup',\n",
       " 'setupact.log',\n",
       " 'setuperr.log',\n",
       " 'ShellComponents',\n",
       " 'ShellExperiences',\n",
       " 'SKB',\n",
       " 'SoftwareDistribution',\n",
       " 'Speech',\n",
       " 'Speech_OneCore',\n",
       " 'splwow64.exe',\n",
       " 'System',\n",
       " 'system.ini',\n",
       " 'System32',\n",
       " 'SystemApps',\n",
       " 'SystemResources',\n",
       " 'SystemTemp',\n",
       " 'SysWOW64',\n",
       " 'TAPI',\n",
       " 'Tasks',\n",
       " 'Temp',\n",
       " 'TextInput',\n",
       " 'tracing',\n",
       " 'twain_32',\n",
       " 'twain_32.dll',\n",
       " 'UUS',\n",
       " 'Vss',\n",
       " 'WaaS',\n",
       " 'Web',\n",
       " 'win.ini',\n",
       " 'WindowsShell.Manifest',\n",
       " 'WindowsUpdate.log',\n",
       " 'winhlp32.exe',\n",
       " 'WinSxS',\n",
       " 'WMSysPr9.prx',\n",
       " 'write.exe',\n",
       " 'WUModels']"
      ]
     },
     "execution_count": 18,
     "metadata": {},
     "output_type": "execute_result"
    }
   ],
   "source": [
    "print('all the content of some location')\n",
    "path = 'c:/windows/'\n",
    "os.listdir(path)"
   ]
  },
  {
   "cell_type": "code",
   "execution_count": null,
   "metadata": {},
   "outputs": [],
   "source": [
    "# recusrsive file and folder\n",
    "for root, dirs, files in os.walk(\"c:/Pictures/\", todown=False):\n",
    "    for name in files:\n",
    "        print(os.path.join(root,name))\n",
    "    for name in dirs:\n",
    "        print(os.path.join(root,name))\n",
    "    \n"
   ]
  }
 ],
 "metadata": {
  "kernelspec": {
   "display_name": "base",
   "language": "python",
   "name": "python3"
  },
  "language_info": {
   "codemirror_mode": {
    "name": "ipython",
    "version": 3
   },
   "file_extension": ".py",
   "mimetype": "text/x-python",
   "name": "python",
   "nbconvert_exporter": "python",
   "pygments_lexer": "ipython3",
   "version": "3.11.4"
  },
  "orig_nbformat": 4
 },
 "nbformat": 4,
 "nbformat_minor": 2
}

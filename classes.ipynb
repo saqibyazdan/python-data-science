{
 "cells": [
  {
   "cell_type": "code",
   "execution_count": 6,
   "metadata": {},
   "outputs": [],
   "source": [
    "class cat:\n",
    "    def __init__(self):\n",
    "        print(\"the class constructor\")"
   ]
  },
  {
   "cell_type": "code",
   "execution_count": 7,
   "metadata": {},
   "outputs": [
    {
     "name": "stdout",
     "output_type": "stream",
     "text": [
      "the class constructor\n",
      "<__main__.cat object at 0x000001AE27B75610>\n"
     ]
    }
   ],
   "source": [
    "c1 = cat()\n",
    "print(c1)"
   ]
  },
  {
   "cell_type": "code",
   "execution_count": 15,
   "metadata": {},
   "outputs": [],
   "source": [
    "class student:\n",
    "    def __init__(self, name, klass, rollno, stream= \"bio\"):\n",
    "        self.name = name \n",
    "        self.klass = klass \n",
    "        self.rollno = rollno \n",
    "        self.stream = stream\n",
    "        self.marks = {}  #property of class\n",
    "\n",
    "    def think(self, object):\n",
    "        print(f\"{self.name} is thinking {object}\")\n",
    "\n",
    "    def setMarks(self, subject,value):\n",
    "        self.marks[subject] = value"
   ]
  },
  {
   "cell_type": "code",
   "execution_count": 22,
   "metadata": {},
   "outputs": [],
   "source": [
    "tony = student(\"tony\" , 12 , '22', \"math\")\n",
    "stark = student(\"stark\", 11, '23')\n",
    "tony.setMarks  ('english',100)\n",
    "tony.setMarks  ('maths',90)\n",
    "tony.setMarks  ('physics',95)\n",
    "stark.setMarks  ('english',100)\n",
    "stark.setMarks  ('maths',90)\n",
    "stark.setMarks  ('physics',95)\n"
   ]
  },
  {
   "cell_type": "code",
   "execution_count": 23,
   "metadata": {},
   "outputs": [
    {
     "name": "stdout",
     "output_type": "stream",
     "text": [
      "{'english': 100, 'maths': 90, 'physics': 95}\n",
      "{'english': 100, 'maths': 90, 'physics': 95}\n"
     ]
    }
   ],
   "source": [
    "print(tony.marks)\n",
    "print(stark.marks)"
   ]
  },
  {
   "cell_type": "code",
   "execution_count": 25,
   "metadata": {},
   "outputs": [
    {
     "name": "stdout",
     "output_type": "stream",
     "text": [
      "tony is thinking  about iron man\n"
     ]
    }
   ],
   "source": [
    "tony.think(\" about iron man\")"
   ]
  },
  {
   "cell_type": "markdown",
   "metadata": {},
   "source": [
    ". Inheritance"
   ]
  },
  {
   "cell_type": "code",
   "execution_count": 39,
   "metadata": {},
   "outputs": [],
   "source": [
    "class superlist(list):\n",
    "    def all_index(self, search):\n",
    "        idxs = []\n",
    "        start_idx = 0\n",
    "        for i in range(self.count(search)):\n",
    "            pos = self.index(search, start_idx)\n",
    "            idxs.append(pos)\n",
    "            start_idx = pos+1\n",
    "        return idxs\n"
   ]
  },
  {
   "cell_type": "code",
   "execution_count": 40,
   "metadata": {},
   "outputs": [
    {
     "name": "stdout",
     "output_type": "stream",
     "text": [
      "[1, 2, 3, 4, 5, 6, 2, 5, 4, 5, 5]\n",
      "[1, 2, 3, 4, 5, 6, 2, 5, 4, 5, 5, 20]\n"
     ]
    }
   ],
   "source": [
    "x = superlist([1,2,3,4,5,6,2,5,4,5,5])\n",
    "print(x)\n",
    "x.append(20)\n",
    "print(x)\n"
   ]
  },
  {
   "cell_type": "code",
   "execution_count": 41,
   "metadata": {},
   "outputs": [
    {
     "data": {
      "text/plain": [
       "[4, 7, 9, 10]"
      ]
     },
     "execution_count": 41,
     "metadata": {},
     "output_type": "execute_result"
    }
   ],
   "source": [
    "x.all_index(5)"
   ]
  }
 ],
 "metadata": {
  "kernelspec": {
   "display_name": "base",
   "language": "python",
   "name": "python3"
  },
  "language_info": {
   "codemirror_mode": {
    "name": "ipython",
    "version": 3
   },
   "file_extension": ".py",
   "mimetype": "text/x-python",
   "name": "python",
   "nbconvert_exporter": "python",
   "pygments_lexer": "ipython3",
   "version": "3.11.4"
  },
  "orig_nbformat": 4
 },
 "nbformat": 4,
 "nbformat_minor": 2
}

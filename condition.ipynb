{
 "cells": [
  {
   "cell_type": "markdown",
   "metadata": {},
   "source": [
    "conditions\n",
    "- if\n",
    "- if else\n",
    "- if elif else\n",
    "- match case"
   ]
  },
  {
   "cell_type": "code",
   "execution_count": 1,
   "metadata": {},
   "outputs": [],
   "source": [
    "x = 10\n",
    "y = 4"
   ]
  },
  {
   "cell_type": "code",
   "execution_count": 4,
   "metadata": {},
   "outputs": [
    {
     "name": "stdout",
     "output_type": "stream",
     "text": [
      "x is greater than y\n",
      "that is true\n",
      "this is always printed\n"
     ]
    }
   ],
   "source": [
    "if x>y:\n",
    "    print(\"x is greater than y\")\n",
    "    print('that is true')\n",
    "print('this is always printed')   "
   ]
  },
  {
   "cell_type": "code",
   "execution_count": 8,
   "metadata": {},
   "outputs": [],
   "source": [
    "if x == y:\n",
    " print('wow')"
   ]
  },
  {
   "cell_type": "code",
   "execution_count": 9,
   "metadata": {},
   "outputs": [
    {
     "name": "stdout",
     "output_type": "stream",
     "text": [
      "x is greater than y and x is greater than 8\n"
     ]
    }
   ],
   "source": [
    "if x>y and x>8:\n",
    "    print('x is greater than y and x is greater than 8')"
   ]
  },
  {
   "cell_type": "markdown",
   "metadata": {},
   "source": [
    "True Values\n",
    "- True\n",
    "- Non- zero numbers\n",
    "- Non-empty strings\n",
    "\n",
    "False values\n",
    "- False\n",
    "- 0\n",
    "- 0.0\n",
    "- None \n",
    "- empty strings"
   ]
  },
  {
   "cell_type": "code",
   "execution_count": 2,
   "metadata": {},
   "outputs": [
    {
     "name": "stdout",
     "output_type": "stream",
     "text": [
      "you did not enter a name\n"
     ]
    }
   ],
   "source": [
    "name = input('Enter a name: ')\n",
    "if name:\n",
    "    print(f'you entered {name}')\n",
    "else:\n",
    "    print('you did not enter a name')"
   ]
  },
  {
   "cell_type": "code",
   "execution_count": 17,
   "metadata": {},
   "outputs": [
    {
     "name": "stdout",
     "output_type": "stream",
     "text": [
      "Its odd\n"
     ]
    }
   ],
   "source": [
    "no = int(input('Enter a number'))\n",
    "if no%2==0:\n",
    "    print('Its even')\n",
    "else:\n",
    "    print('Its odd')"
   ]
  },
  {
   "cell_type": "code",
   "execution_count": 1,
   "metadata": {},
   "outputs": [
    {
     "name": "stdout",
     "output_type": "stream",
     "text": [
      "Welcome master wayne🦇\n"
     ]
    }
   ],
   "source": [
    "username = input('Enter username')\n",
    "password = input('Enter password')\n",
    "if username == 'bruce wayne':\n",
    "    if password == 'batman':\n",
    "       print('Welcome master wayne🦇')\n",
    "    else:\n",
    "       print('Invalid password❌')\n",
    "else:\n",
    "      print('Invalid username❌')"
   ]
  },
  {
   "cell_type": "code",
   "execution_count": 20,
   "metadata": {},
   "outputs": [
    {
     "name": "stdout",
     "output_type": "stream",
     "text": [
      "Holiday day\n"
     ]
    }
   ],
   "source": [
    "day = input('Enter day')\n",
    "if day =='monday':\n",
    "    print('monday')\n",
    "elif day == 'tuesday':\n",
    "    print('Tuesday')\n",
    "elif day == 'wednesday':\n",
    "    print('Wednesday')\n",
    "else:\n",
    "    print('Holiday day')"
   ]
  },
  {
   "cell_type": "code",
   "execution_count": 23,
   "metadata": {},
   "outputs": [
    {
     "name": "stdout",
     "output_type": "stream",
     "text": [
      "Almost there\n"
     ]
    }
   ],
   "source": [
    "day = input('Enter day')\n",
    "match day:\n",
    "    case 'monday':\n",
    "        print('Time to work')\n",
    "    case 'tuesday'|'wednesday':\n",
    "        print('Time to work again')\n",
    "    case 'thursday':\n",
    "        print('Almost there')\n",
    "    case'friday':\n",
    "        print('Weekend, not really')\n",
    "    case _:\n",
    "        print('Holiday')"
   ]
  },
  {
   "cell_type": "code",
   "execution_count": 25,
   "metadata": {},
   "outputs": [
    {
     "name": "stdout",
     "output_type": "stream",
     "text": [
      "Scorpio\n"
     ]
    }
   ],
   "source": [
    "month = input('Enter a month')\n",
    "match month:\n",
    "    case 'january':\n",
    "        print('capricon')\n",
    "    case 'februrary'| 'march':\n",
    "        print('Scorpio')\n",
    "    case 'april'| 'may':\n",
    "        print('aeries')\n",
    "    case 'june'|'july':\n",
    "        print('cancer')\n"
   ]
  }
 ],
 "metadata": {
  "kernelspec": {
   "display_name": "base",
   "language": "python",
   "name": "python3"
  },
  "language_info": {
   "codemirror_mode": {
    "name": "ipython",
    "version": 3
   },
   "file_extension": ".py",
   "mimetype": "text/x-python",
   "name": "python",
   "nbconvert_exporter": "python",
   "pygments_lexer": "ipython3",
   "version": "3.11.4"
  },
  "orig_nbformat": 4
 },
 "nbformat": 4,
 "nbformat_minor": 2
}

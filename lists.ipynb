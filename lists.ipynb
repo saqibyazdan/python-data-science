{
 "cells": [
  {
   "cell_type": "code",
   "execution_count": 2,
   "metadata": {},
   "outputs": [
    {
     "name": "stdout",
     "output_type": "stream",
     "text": [
      "[1, 2, 3, 1, 2, 3, 1, 2, 3, 1, 2, 3, 1, 2, 3]\n",
      "['this', 'is', 'sparta']\n",
      "['A', 'l', 'e', 'x', 'a', 'n', 'd', 'e', 'r']\n"
     ]
    }
   ],
   "source": [
    "x = [1,2,3,4,5]\n",
    "names = ['John','Paul', 'George',  'Ringo'] \n",
    "mix = [1, 'john',3.14, True]\n",
    "nested = [[1,2,31], [4,5,6], [7,8,911]]\n",
    "mt = []\n",
    "cloned = [1,2,3] * 5 # repeat list 5 times\n",
    "words = 'this is sparta'.split()\n",
    "chars = list('Alexander')\n",
    "print(cloned)\n",
    "print(words)\n",
    "print(chars)"
   ]
  },
  {
   "cell_type": "markdown",
   "metadata": {},
   "source": [
    "-adding\n",
    " - append()= adds an element to the end of a list\n",
    " - extend()= adds all element of one list to another list\n",
    " - insert()= adds an element at a specific index\n",
    "\n",
    "- remove\n",
    " - pop()\n",
    " - clear()\n",
    "\n",
    "- utility\n",
    " - count()\n",
    " -index()\n",
    " -sort()\n",
    " -reverse()\n",
    " - copy()"
   ]
  },
  {
   "cell_type": "code",
   "execution_count": 8,
   "metadata": {},
   "outputs": [
    {
     "name": "stdout",
     "output_type": "stream",
     "text": [
      "[1, 2, 3, 4, 5, 6, 3]\n"
     ]
    }
   ],
   "source": [
    "x.append(6)\n",
    "x.append(3)\n",
    "print(x)"
   ]
  },
  {
   "cell_type": "code",
   "execution_count": 9,
   "metadata": {},
   "outputs": [
    {
     "name": "stdout",
     "output_type": "stream",
     "text": [
      "[1, 2, 3, 4, 5, 6, 3, 11, 12, 13]\n"
     ]
    }
   ],
   "source": [
    "a = [ 11,12,13]\n",
    "x.extend(a)\n",
    "print(x)\n"
   ]
  },
  {
   "cell_type": "code",
   "execution_count": 4,
   "metadata": {},
   "outputs": [
    {
     "name": "stdout",
     "output_type": "stream",
     "text": [
      "[0, 1, 2, 3, 4, 5, 6, 7, 8, 9]\n"
     ]
    }
   ],
   "source": [
    "x=[]\n",
    "for i in range (10):\n",
    "    input (i)\n",
    "    x.append(i)\n",
    "print(x)\n"
   ]
  },
  {
   "cell_type": "code",
   "execution_count": 11,
   "metadata": {},
   "outputs": [
    {
     "name": "stdout",
     "output_type": "stream",
     "text": [
      "[0, 1, 2, 3, 4, 6, 7, 8, 9]\n"
     ]
    }
   ],
   "source": [
    "if 5 in x:\n",
    "  x.remove(5)\n",
    "print(x)"
   ]
  },
  {
   "cell_type": "code",
   "execution_count": 12,
   "metadata": {},
   "outputs": [],
   "source": [
    "x.remove(9) if 9  in x else print('not found')"
   ]
  },
  {
   "cell_type": "code",
   "execution_count": 13,
   "metadata": {},
   "outputs": [
    {
     "name": "stdout",
     "output_type": "stream",
     "text": [
      "5\n",
      "3\n"
     ]
    }
   ],
   "source": [
    "p = [1,2,3,4,5]\n",
    "print(p.pop())\n",
    "print(p.pop(2))"
   ]
  },
  {
   "cell_type": "code",
   "execution_count": 14,
   "metadata": {},
   "outputs": [
    {
     "data": {
      "text/plain": [
       "5"
      ]
     },
     "execution_count": 14,
     "metadata": {},
     "output_type": "execute_result"
    }
   ],
   "source": [
    "a= [1,1,2,2,3,2,2,1,1,1,2,2,2]\n",
    "a.count(1)"
   ]
  },
  {
   "cell_type": "code",
   "execution_count": 15,
   "metadata": {},
   "outputs": [
    {
     "name": "stdout",
     "output_type": "stream",
     "text": [
      "['George', 'John', 'Paul', 'Ringo']\n"
     ]
    }
   ],
   "source": [
    "names.sort()\n",
    "print(names)"
   ]
  },
  {
   "cell_type": "code",
   "execution_count": 16,
   "metadata": {},
   "outputs": [
    {
     "name": "stdout",
     "output_type": "stream",
     "text": [
      "[0, 1, 1, 2, 3, 5, 8, 13, 21, 34]\n"
     ]
    }
   ],
   "source": [
    "x=[]\n",
    "a = 0\n",
    "b = 1\n",
    "x.append(a)\n",
    "x.append(b)\n",
    "for i in range(8):\n",
    "    sum = a+b\n",
    "    x.append(sum)\n",
    "    a = b\n",
    "    b = sum\n",
    "print(x)\n"
   ]
  },
  {
   "cell_type": "code",
   "execution_count": 17,
   "metadata": {},
   "outputs": [
    {
     "name": "stdout",
     "output_type": "stream",
     "text": [
      "[0, 1, 1, 2, 3, 5, 8, 13, 21, 34, 55, 89]\n"
     ]
    }
   ],
   "source": [
    "# fibonacci\n",
    "\n",
    "x=[0,1]\n",
    "for i in range(10):\n",
    "    x.append(x[-2]+x[-1])\n",
    "\n",
    "print(x)    "
   ]
  },
  {
   "cell_type": "code",
   "execution_count": 18,
   "metadata": {},
   "outputs": [
    {
     "name": "stdout",
     "output_type": "stream",
     "text": [
      "[1, 2, 3, 4, 5]\n",
      "[1, 4, 9, 16, 25]\n"
     ]
    }
   ],
   "source": [
    "x =[1,2,3,4,5]\n",
    "x2 =[]\n",
    "for i in x:\n",
    "    s = i*i\n",
    "    x2.append(s)\n",
    "print(x)\n",
    "print(x2)"
   ]
  },
  {
   "cell_type": "code",
   "execution_count": 19,
   "metadata": {},
   "outputs": [
    {
     "name": "stdout",
     "output_type": "stream",
     "text": [
      "[1, 4, 9, 16, 25]\n"
     ]
    }
   ],
   "source": [
    "x2 =[ i*i for i in x]\n",
    "print (x2)\n"
   ]
  },
  {
   "cell_type": "code",
   "execution_count": 20,
   "metadata": {},
   "outputs": [
    {
     "name": "stdout",
     "output_type": "stream",
     "text": [
      "['peter', 'bruce', 'clark']\n"
     ]
    }
   ],
   "source": [
    "names=['peter parker','bruce wayne', 'clark kent']\n",
    "fnames=[]\n",
    "for nm in names :\n",
    "    fnames.append(nm.split()[0])\n",
    "print (fnames)\n",
    "\n"
   ]
  },
  {
   "cell_type": "code",
   "execution_count": 21,
   "metadata": {},
   "outputs": [
    {
     "name": "stdout",
     "output_type": "stream",
     "text": [
      "['parker', 'wayne', 'kent']\n"
     ]
    }
   ],
   "source": [
    "lnames= [nm.split()[1] for nm in names]\n",
    "print(lnames)"
   ]
  },
  {
   "cell_type": "code",
   "execution_count": 22,
   "metadata": {},
   "outputs": [
    {
     "name": "stdout",
     "output_type": "stream",
     "text": [
      "[2, 4, 6, 8, 10]\n"
     ]
    }
   ],
   "source": [
    "x=[1,2,3,4,5,6,7,8,9,10]\n",
    "even= []\n",
    "for i in x:\n",
    "    \n",
    "    if i%2 == 0:\n",
    "       even.append(i)\n",
    "print(even)"
   ]
  },
  {
   "cell_type": "markdown",
   "metadata": {},
   "source": [
    "comprehension\n"
   ]
  },
  {
   "cell_type": "markdown",
   "metadata": {},
   "source": [
    "newlist = [expression for item in iterable if condition == true]"
   ]
  },
  {
   "cell_type": "code",
   "execution_count": 1,
   "metadata": {},
   "outputs": [
    {
     "name": "stdout",
     "output_type": "stream",
     "text": [
      "[1, 2, 3, 5, 10]\n"
     ]
    }
   ],
   "source": [
    "# filter\n",
    "x =['1','2','3',' ', '5', ' ','10'] \n",
    "x_clean = [int(i)for i in x if i.isnumeric()]\n",
    "print(x_clean)"
   ]
  },
  {
   "cell_type": "code",
   "execution_count": 4,
   "metadata": {},
   "outputs": [
    {
     "name": "stdout",
     "output_type": "stream",
     "text": [
      "['2,jpj']\n",
      "[]\n"
     ]
    }
   ],
   "source": [
    "files=['1.jpg', '3.jpj','2.jpj', '4.tif','5.jpj','10.pnj']\n",
    "jpj_files = [j for j in files if j.endswith('.jpj')]\n",
    "ppj_files = [p for p in files if p.endswith('.pnj')]\n",
    "print(jpj_files)\n",
    "print(ppj_files)"
   ]
  },
  {
   "cell_type": "code",
   "execution_count": 6,
   "metadata": {},
   "outputs": [
    {
     "name": "stdout",
     "output_type": "stream",
     "text": [
      "[1, 27, 125, 125, 343, 343, 343, 343]\n"
     ]
    }
   ],
   "source": [
    "y=[1,2,3,4,5,5,6,6,6,7,7,7,7,8,]\n",
    "odd_cube = [(i*i*i)for i in y if i%2!=0]\n",
    "print(odd_cube)"
   ]
  },
  {
   "cell_type": "code",
   "execution_count": null,
   "metadata": {},
   "outputs": [],
   "source": []
  }
 ],
 "metadata": {
  "kernelspec": {
   "display_name": "base",
   "language": "python",
   "name": "python3"
  },
  "language_info": {
   "codemirror_mode": {
    "name": "ipython",
    "version": 3
   },
   "file_extension": ".py",
   "mimetype": "text/x-python",
   "name": "python",
   "nbconvert_exporter": "python",
   "pygments_lexer": "ipython3",
   "version": "3.11.4"
  },
  "orig_nbformat": 4
 },
 "nbformat": 4,
 "nbformat_minor": 2
}

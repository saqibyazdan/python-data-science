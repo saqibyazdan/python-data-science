{
 "cells": [
  {
   "cell_type": "markdown",
   "metadata": {},
   "source": [
    "LOOP"
   ]
  },
  {
   "cell_type": "markdown",
   "metadata": {},
   "source": [
    "'''\n",
    "\n",
    "for temp_var in iterable:\n",
    "    statement 1\n",
    "    '''\n",
    "    statement n\n",
    "\n",
    "iterables are string list, tuple,set,dict, generator, etc"
   ]
  },
  {
   "cell_type": "code",
   "execution_count": 1,
   "metadata": {},
   "outputs": [
    {
     "name": "stdout",
     "output_type": "stream",
     "text": [
      "1\n",
      "529\n",
      "25\n",
      "36\n",
      "9\n",
      "36\n",
      "441\n",
      "36\n",
      "36\n"
     ]
    }
   ],
   "source": [
    "nums = [1,23,5,6,3,6,21,6,6]\n",
    "for i in nums:\n",
    "    print(i**2)"
   ]
  },
  {
   "cell_type": "code",
   "execution_count": 3,
   "metadata": {},
   "outputs": [
    {
     "name": "stdout",
     "output_type": "stream",
     "text": [
      "John\n",
      "Jane\n",
      "Jack\n",
      "Jill\n"
     ]
    }
   ],
   "source": [
    "names = ['John','Jane','Jack','Jill']\n",
    "for name in names:\n",
    "    print(name)"
   ]
  },
  {
   "cell_type": "code",
   "execution_count": 4,
   "metadata": {},
   "outputs": [
    {
     "name": "stdout",
     "output_type": "stream",
     "text": [
      "(0, 'John')\n",
      "(1, 'Jane')\n",
      "(2, 'Jack')\n",
      "(3, 'Jill')\n"
     ]
    }
   ],
   "source": [
    "names = ['John','Jane','Jack','Jill']\n",
    "for name in enumerate(names):\n",
    "    print(name)"
   ]
  },
  {
   "cell_type": "code",
   "execution_count": 5,
   "metadata": {},
   "outputs": [
    {
     "name": "stdout",
     "output_type": "stream",
     "text": [
      "John 0\n",
      "Jane 1\n",
      "Jack 2\n",
      "Jill 3\n"
     ]
    }
   ],
   "source": [
    "names = ['John','Jane','Jack','Jill']\n",
    "for idx, name in enumerate(names):\n",
    "    print(name,idx)"
   ]
  },
  {
   "cell_type": "code",
   "execution_count": 9,
   "metadata": {},
   "outputs": [
    {
     "name": "stdout",
     "output_type": "stream",
     "text": [
      "5\n",
      "18\n",
      "38\n",
      "68\n",
      "106\n"
     ]
    }
   ],
   "source": [
    "x =[2,4,6,8,10]\n",
    "y = [1,3,5,7,9]\n",
    "z = [3,6,8,12,16]\n",
    "for i,j,k in zip(x,y,z):\n",
    "    print(i*j+k)"
   ]
  },
  {
   "cell_type": "code",
   "execution_count": 2,
   "metadata": {},
   "outputs": [
    {
     "name": "stdout",
     "output_type": "stream",
     "text": [
      "The Boys            8.6⭐\n",
      "Stranger Things     9.0⭐\n",
      "Extraction          7.7⭐\n",
      "Apollo 13           7.6⭐\n"
     ]
    }
   ],
   "source": [
    "movies = ['The Boys', 'Stranger Things','Extraction','Apollo 13']\n",
    "rating = [8.6,9.0,7.7,7.6]\n",
    "\n",
    "for name, star in zip(movies, rating):\n",
    "    print(f'{name:20}{star}⭐')"
   ]
  },
  {
   "cell_type": "markdown",
   "metadata": {},
   "source": [
    "Break and continue"
   ]
  },
  {
   "cell_type": "code",
   "execution_count": 2,
   "metadata": {},
   "outputs": [
    {
     "name": "stdout",
     "output_type": "stream",
     "text": [
      "1 2 3 4 5 "
     ]
    }
   ],
   "source": [
    "x =[1,2,3,4,5,0,6,7,8,2,1,3,0,4]\n",
    "for i in x:\n",
    "    if i == 0:\n",
    "        break\n",
    "    print(i, end=' ')"
   ]
  },
  {
   "cell_type": "code",
   "execution_count": 3,
   "metadata": {},
   "outputs": [
    {
     "name": "stdout",
     "output_type": "stream",
     "text": [
      "1 2 3 4 5 "
     ]
    }
   ],
   "source": [
    "for i in x:\n",
    "    if i== 0:\n",
    "        break\n",
    "    print(i, end=\" \")\n",
    "else:\n",
    "    print('Loop completed')"
   ]
  },
  {
   "cell_type": "code",
   "execution_count": 7,
   "metadata": {},
   "outputs": [
    {
     "name": "stdout",
     "output_type": "stream",
     "text": [
      "Prime\n",
      "Prime\n",
      "Prime\n"
     ]
    }
   ],
   "source": [
    "num = int(input('Enter a number:'))\n",
    "for i in range(2, num):\n",
    "    if num % i ==0:\n",
    "        print('Not prime')\n",
    "        break\n",
    "    else:\n",
    "        print('Prime')"
   ]
  },
  {
   "cell_type": "code",
   "execution_count": 8,
   "metadata": {},
   "outputs": [
    {
     "name": "stdout",
     "output_type": "stream",
     "text": [
      "1 2 3 5 1 2 23 3 5 2 1 3 4 "
     ]
    }
   ],
   "source": [
    "x = [1,2,3,None,5,1,None,2,23,None, 3,5,2,1,None,3,4]\n",
    "for num in x:\n",
    "    if num is None:\n",
    "        continue \n",
    "    print(num, end=' ')"
   ]
  },
  {
   "cell_type": "code",
   "execution_count": 9,
   "metadata": {},
   "outputs": [
    {
     "name": "stdout",
     "output_type": "stream",
     "text": [
      "1 2 3 5 1 2 23 3 5 2 1 3 4 "
     ]
    }
   ],
   "source": [
    "for num in x:\n",
    "    if num is not None:\n",
    "        print(num, end=' ')"
   ]
  },
  {
   "cell_type": "markdown",
   "metadata": {},
   "source": [
    "Addition of Odd numbers in a String\n"
   ]
  },
  {
   "cell_type": "code",
   "execution_count": 12,
   "metadata": {},
   "outputs": [
    {
     "name": "stdout",
     "output_type": "stream",
     "text": [
      "25\n"
     ]
    }
   ],
   "source": [
    "odd_sum = 0\n",
    "for num in x:\n",
    "    if num is not None and num % 2 != 0:\n",
    "        odd_sum += num\n",
    "print(odd_sum)"
   ]
  },
  {
   "cell_type": "markdown",
   "metadata": {},
   "source": [
    "Infinite Loop"
   ]
  },
  {
   "cell_type": "code",
   "execution_count": 2,
   "metadata": {},
   "outputs": [
    {
     "name": "stdout",
     "output_type": "stream",
     "text": [
      "Wrong username❌\n",
      "Wrong username❌\n",
      "Wrong username❌\n",
      "Wrong username❌\n",
      "Wrong username❌\n",
      "Wrong username❌\n",
      "Wrong username❌\n",
      "Wrong username❌\n",
      "Welcome admin😉\n"
     ]
    }
   ],
   "source": [
    "while True:\n",
    "    user = input('Enter username🤣: ')\n",
    "    password = input('🔑 Enter password: ')\n",
    "    if user == 'admin':\n",
    "        if password == 'jemsus':\n",
    "            print('Welcome admin😉')\n",
    "            break\n",
    "        else:\n",
    "            print('Wrong password❌')\n",
    "    else:\n",
    "        print('Wrong username❌')\n"
   ]
  }
 ],
 "metadata": {
  "kernelspec": {
   "display_name": "base",
   "language": "python",
   "name": "python3"
  },
  "language_info": {
   "codemirror_mode": {
    "name": "ipython",
    "version": 3
   },
   "file_extension": ".py",
   "mimetype": "text/x-python",
   "name": "python",
   "nbconvert_exporter": "python",
   "pygments_lexer": "ipython3",
   "version": "3.11.4"
  },
  "orig_nbformat": 4
 },
 "nbformat": 4,
 "nbformat_minor": 2
}
